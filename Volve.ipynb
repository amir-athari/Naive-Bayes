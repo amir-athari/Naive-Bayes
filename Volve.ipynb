{
 "cells": [
  {
   "cell_type": "markdown",
   "metadata": {},
   "source": [
    "## Support vector machine on an offshore field historic production data"
   ]
  },
  {
   "cell_type": "markdown",
   "metadata": {},
   "source": [
    "### Source: https://data-equinor-com.azurewebsites.net/dataset/volve"
   ]
  },
  {
   "cell_type": "code",
   "execution_count": 2,
   "metadata": {},
   "outputs": [
    {
     "name": "stderr",
     "output_type": "stream",
     "text": [
      "C:\\Users\\aath\\AppData\\Local\\Continuum\\anaconda3\\lib\\site-packages\\statsmodels\\compat\\pandas.py:56: FutureWarning: The pandas.core.datetools module is deprecated and will be removed in a future version. Please use the pandas.tseries module instead.\n",
      "  from pandas.core import datetools\n"
     ]
    }
   ],
   "source": [
    "import numpy as np\n",
    "import pandas as pd\n",
    "from datetime import datetime\n",
    "import statsmodels.api as sm\n",
    "import scipy\n",
    "import math\n",
    "import matplotlib.pyplot as plt\n",
    "import seaborn as sns\n",
    "%matplotlib inline"
   ]
  },
  {
   "cell_type": "code",
   "execution_count": 3,
   "metadata": {
    "collapsed": true
   },
   "outputs": [],
   "source": [
    "# Load the data\n",
    "path1 = (\"C:/Users/aath/Dropbox/MAEN/Thankful/Data/STO/volve_day_prod.csv\")\n",
    "original_data = pd.read_csv(path1, thousands=',')"
   ]
  },
  {
   "cell_type": "code",
   "execution_count": 4,
   "metadata": {
    "collapsed": true
   },
   "outputs": [],
   "source": [
    "# Create a date index\n",
    "original_data['DATETIME'] = pd.to_datetime(original_data['DATEPRD'])\n",
    "original_data = original_data.set_index('DATETIME')\n",
    "original_data = original_data.drop(['DATEPRD'], axis=1)"
   ]
  },
  {
   "cell_type": "code",
   "execution_count": 5,
   "metadata": {},
   "outputs": [
    {
     "data": {
      "text/plain": [
       "['WELL_BORE_CODE',\n",
       " 'NPD_WELL_BORE_CODE',\n",
       " 'NPD_WELL_BORE_NAME',\n",
       " 'NPD_FIELD_CODE',\n",
       " 'NPD_FIELD_NAME',\n",
       " 'NPD_FACILITY_CODE',\n",
       " 'ON_STREAM_HRS',\n",
       " 'AVG_DOWNHOLE_PRESSURE',\n",
       " 'AVG_DOWNHOLE_TEMPERATURE',\n",
       " 'AVG_DP_TUBING',\n",
       " 'AVG_ANNULUS_PRESS',\n",
       " 'AVG_CHOKE_SIZE_P',\n",
       " 'AVG_CHOKE_UOM',\n",
       " 'AVG_WHP_P',\n",
       " 'AVG_WHT_P',\n",
       " 'DP_CHOKE_SIZE',\n",
       " 'BORE_OIL_VOL',\n",
       " 'BORE_GAS_VOL',\n",
       " 'BORE_WAT_VOL',\n",
       " 'BORE_WI_VOL',\n",
       " 'FLOW_KIND',\n",
       " 'WELL_TYPE',\n",
       " 'BOEPD_PRODUCED_VOL',\n",
       " 'PROD_NXT_12_MO']"
      ]
     },
     "execution_count": 5,
     "metadata": {},
     "output_type": "execute_result"
    }
   ],
   "source": [
    "# Checks column names\n",
    "list(original_data.columns)"
   ]
  },
  {
   "cell_type": "code",
   "execution_count": 6,
   "metadata": {},
   "outputs": [
    {
     "data": {
      "text/plain": [
       "{dtype('int64'): Index(['NPD_WELL_BORE_CODE', 'NPD_FIELD_CODE', 'NPD_FACILITY_CODE',\n",
       "        'PROD_NXT_12_MO'],\n",
       "       dtype='object'),\n",
       " dtype('float64'): Index(['ON_STREAM_HRS', 'AVG_DOWNHOLE_PRESSURE', 'AVG_DOWNHOLE_TEMPERATURE',\n",
       "        'AVG_DP_TUBING', 'AVG_ANNULUS_PRESS', 'AVG_CHOKE_SIZE_P', 'AVG_WHP_P',\n",
       "        'AVG_WHT_P', 'DP_CHOKE_SIZE', 'BORE_OIL_VOL', 'BORE_GAS_VOL',\n",
       "        'BORE_WAT_VOL', 'BORE_WI_VOL', 'BOEPD_PRODUCED_VOL'],\n",
       "       dtype='object'),\n",
       " dtype('O'): Index(['WELL_BORE_CODE', 'NPD_WELL_BORE_NAME', 'NPD_FIELD_NAME',\n",
       "        'AVG_CHOKE_UOM', 'FLOW_KIND', 'WELL_TYPE'],\n",
       "       dtype='object')}"
      ]
     },
     "execution_count": 6,
     "metadata": {},
     "output_type": "execute_result"
    }
   ],
   "source": [
    "# Check the data type of each column by groupby\n",
    "original_data.columns.to_series().groupby(original_data.dtypes).groups"
   ]
  },
  {
   "cell_type": "code",
   "execution_count": 7,
   "metadata": {},
   "outputs": [
    {
     "data": {
      "text/plain": [
       "DATETIME\n",
       "2014-04-07         0.0\n",
       "2014-04-08         0.0\n",
       "2014-04-09         0.0\n",
       "2014-04-10         0.0\n",
       "2014-04-11         0.0\n",
       "2014-04-12         0.0\n",
       "2014-04-13         0.0\n",
       "2014-04-14         0.0\n",
       "2014-04-15         0.0\n",
       "2014-04-16         0.0\n",
       "2014-04-17         0.0\n",
       "2014-04-18         0.0\n",
       "2014-04-19         0.0\n",
       "2014-04-20         0.0\n",
       "2014-04-21         0.0\n",
       "2014-04-22     90439.0\n",
       "2014-04-23    165720.0\n",
       "2014-04-24    221707.0\n",
       "2014-04-25    178064.0\n",
       "2014-04-26    192602.0\n",
       "Name: BORE_GAS_VOL, dtype: float64"
      ]
     },
     "execution_count": 7,
     "metadata": {},
     "output_type": "execute_result"
    }
   ],
   "source": [
    "original_data[\"BORE_GAS_VOL\"].head(20)"
   ]
  },
  {
   "cell_type": "code",
   "execution_count": 8,
   "metadata": {},
   "outputs": [
    {
     "data": {
      "text/plain": [
       "ON_STREAM_HRS                285\n",
       "AVG_DOWNHOLE_PRESSURE       6654\n",
       "AVG_DOWNHOLE_TEMPERATURE    6654\n",
       "AVG_DP_TUBING               6654\n",
       "AVG_ANNULUS_PRESS           7744\n",
       "AVG_CHOKE_SIZE_P            6715\n",
       "AVG_CHOKE_UOM               6473\n",
       "AVG_WHP_P                   6479\n",
       "AVG_WHT_P                   6488\n",
       "DP_CHOKE_SIZE                294\n",
       "BORE_OIL_VOL                6473\n",
       "BORE_GAS_VOL                6473\n",
       "BORE_WAT_VOL                6473\n",
       "BORE_WI_VOL                 9928\n",
       "dtype: int64"
      ]
     },
     "execution_count": 8,
     "metadata": {},
     "output_type": "execute_result"
    }
   ],
   "source": [
    "# Count nulls\n",
    "null_count = original_data.isnull().sum()\n",
    "null_count[null_count>0]"
   ]
  },
  {
   "cell_type": "code",
   "execution_count": 9,
   "metadata": {
    "collapsed": true
   },
   "outputs": [],
   "source": [
    "# Fill NAs with zero\n",
    "original_data = original_data.fillna(0)"
   ]
  },
  {
   "cell_type": "code",
   "execution_count": 10,
   "metadata": {
    "collapsed": true
   },
   "outputs": [],
   "source": [
    "# Drop not useful columns\n",
    "original_data = original_data.drop(['NPD_FIELD_CODE','NPD_FIELD_NAME','NPD_FACILITY_CODE'], axis=1)"
   ]
  },
  {
   "cell_type": "code",
   "execution_count": 11,
   "metadata": {
    "collapsed": true
   },
   "outputs": [],
   "source": [
    "# Create cumulitive volumes\n",
    "original_data['BORE_OIL_VOL_CUME']=original_data['BORE_OIL_VOL'].cumsum()\n",
    "original_data['BORE_GAS_VOL_CUME']=original_data['BORE_GAS_VOL'].cumsum()\n",
    "original_data['BORE_WAT_VOL_CUME']=original_data['BORE_WAT_VOL'].cumsum()\n",
    "original_data['BOEPD_PRODUCED_CUME']=original_data['BOEPD_PRODUCED_VOL'].cumsum()\n",
    "\n",
    "# Add a binary column showing if production BOEPD >= 3K\n",
    "original_data['MIN_3K_BOEPD_BINARY'] = np.where(original_data['BOEPD_PRODUCED_VOL']  >= 3000, 1,0)"
   ]
  },
  {
   "cell_type": "code",
   "execution_count": 12,
   "metadata": {},
   "outputs": [
    {
     "data": {
      "text/plain": [
       "<matplotlib.axes._subplots.AxesSubplot at 0xcb95550>"
      ]
     },
     "execution_count": 12,
     "metadata": {},
     "output_type": "execute_result"
    },
    {
     "data": {
      "image/png": "[encoded data removed]",
      "text/plain": [
       "<matplotlib.figure.Figure at 0x693fcc0>"
      ]
     },
     "metadata": {},
     "output_type": "display_data"
    }
   ],
   "source": [
    "original_data['MIN_3K_BOEPD_BINARY'].plot()"
   ]
  },
  {
   "cell_type": "code",
   "execution_count": 13,
   "metadata": {
    "collapsed": true
   },
   "outputs": [],
   "source": [
    "# Crea x and y values\n",
    "\n",
    "X=original_data[['AVG_DOWNHOLE_PRESSURE', 'AVG_DOWNHOLE_TEMPERATURE',\n",
    "                 'AVG_DP_TUBING','AVG_ANNULUS_PRESS', 'AVG_CHOKE_SIZE_P',\n",
    "                 'AVG_WHP_P','AVG_WHT_P', 'DP_CHOKE_SIZE']].copy()\n",
    "y= original_data[['MIN_3K_BOEPD_BINARY']].copy()"
   ]
  },
  {
   "cell_type": "code",
   "execution_count": 14,
   "metadata": {},
   "outputs": [
    {
     "data": {
      "image/png": "[encoded data removed]",
      "text/plain": [
       "<matplotlib.figure.Figure at 0xcfaf198>"
      ]
     },
     "metadata": {},
     "output_type": "display_data"
    }
   ],
   "source": [
    "# \n",
    "fig = plt.figure(figsize=(20,20))\n",
    "cols = 3\n",
    "rows = math.ceil(float(X.shape[1]) / cols)\n",
    "\n",
    "for i, column in enumerate(['AVG_DOWNHOLE_PRESSURE', 'AVG_DOWNHOLE_TEMPERATURE',\n",
    "                 'AVG_DP_TUBING','AVG_ANNULUS_PRESS', 'AVG_CHOKE_SIZE_P',\n",
    "                 'AVG_WHP_P','AVG_WHT_P', 'DP_CHOKE_SIZE']):\n",
    "    ax = fig.add_subplot(rows, cols, i + 1)\n",
    "    ax.set_title(column)\n",
    "    if X.dtypes[column] == np.object:\n",
    "        X[column].value_counts().plot(kind=\"bar\", axes=ax)\n",
    "    else:\n",
    "        X[column].hist(axes=ax)\n",
    "        plt.xticks(rotation=\"vertical\")\n",
    "plt.subplots_adjust(hspace=0.7, wspace=0.2)\n",
    "plt.show()"
   ]
  },
  {
   "cell_type": "code",
   "execution_count": 89,
   "metadata": {},
   "outputs": [
    {
     "data": {
      "image/png": "[encoded data removed]",
      "text/plain": [
       "<matplotlib.figure.Figure at 0x110695f8>"
      ]
     },
     "metadata": {},
     "output_type": "display_data"
    }
   ],
   "source": [
    "plt.figure(1)\n",
    "plt.subplot(7,2,1)\n",
    "original_data.AVG_DOWNHOLE_PRESSURE.plot( figsize=(15,10), title='AVG_DOWNHOLE_PRESSURE') \n",
    "\n",
    "\n",
    "plt.subplot(7,2,2)\n",
    "original_data.AVG_DOWNHOLE_TEMPERATURE.plot( figsize=(15,10), title='AVG_DOWNHOLE_TEMPERATURE') \n",
    "\n",
    "plt.subplot(7,2,3)\n",
    "original_data.AVG_DP_TUBING.plot( figsize=(15,10), title='AVG_DP_TUBING') \n",
    "\n",
    "plt.subplot(7,2,4)\n",
    "original_data.AVG_ANNULUS_PRESS.plot( figsize=(15,10), title='AVG_ANNULUS_PRESS') \n",
    "\n",
    "plt.subplot(7,2,5)\n",
    "original_data.AVG_CHOKE_SIZE_P.plot( figsize=(15,10), title='AVG_CHOKE_SIZE_P') \n",
    "\n",
    "plt.subplot(7,2,6)\n",
    "original_data.AVG_WHP_P.plot( figsize=(15,10), title='AVG_WHP_P') \n",
    "\n",
    "plt.subplot(7,2,7)\n",
    "original_data.AVG_WHT_P.plot( figsize=(15,10), title='AVG_WHT_P') \n",
    "\n",
    "plt.subplot(7,2,8)\n",
    "original_data.DP_CHOKE_SIZE.plot( figsize=(15,10), title='DP_CHOKE_SIZE') \n",
    "\n",
    "plt.subplot(7,2,9)\n",
    "original_data.BORE_OIL_VOL.plot( figsize=(15,10), title='BORE_OIL_VOL') \n",
    "\n",
    "plt.subplot(7,2,10)\n",
    "original_data.BORE_GAS_VOL.plot( figsize=(15,10), title='BORE_GAS_VOL') \n",
    "\n",
    "plt.subplot(7,2,11)\n",
    "original_data.BORE_WAT_VOL.plot( figsize=(15,10), title='BORE_WAT_VOL') \n",
    "\n",
    "plt.subplot(7,2,12)\n",
    "original_data.BORE_WAT_VOL.plot( figsize=(15,10), title='BORE_WAT_VOL') \n",
    "\n",
    "plt.subplot(7,2,13)\n",
    "original_data.BOEPD_PRODUCED_VOL.plot( figsize=(15,10), title='BOEPD_PRODUCED_VOL') \n",
    "\n",
    "plt.subplot(7,2,14)\n",
    "original_data.MIN_3K_BOEPD_BINARY.plot( figsize=(15,10), title='MIN_3K_BOEPD_BINARY') \n",
    "\n",
    "\n",
    "plt.tight_layout()\n",
    "plt.show()"
   ]
  },
  {
   "cell_type": "code",
   "execution_count": null,
   "metadata": {
    "collapsed": true
   },
   "outputs": [],
   "source": []
  },
  {
   "cell_type": "code",
   "execution_count": 16,
   "metadata": {},
   "outputs": [
    {
     "data": {
      "text/html": [
       "<div>\n",
       "<style>\n",
       "    .dataframe thead tr:only-child th {\n",
       "        text-align: right;\n",
       "    }\n",
       "\n",
       "    .dataframe thead th {\n",
       "        text-align: left;\n",
       "    }\n",
       "\n",
       "    .dataframe tbody tr th {\n",
       "        vertical-align: top;\n",
       "    }\n",
       "</style>\n",
       "<table border=\"1\" class=\"dataframe\">\n",
       "  <thead>\n",
       "    <tr style=\"text-align: right;\">\n",
       "      <th></th>\n",
       "      <th>var1(t-20)</th>\n",
       "      <th>var2(t-20)</th>\n",
       "      <th>var3(t-20)</th>\n",
       "      <th>var4(t-20)</th>\n",
       "      <th>var5(t-20)</th>\n",
       "      <th>var6(t-20)</th>\n",
       "      <th>var7(t-20)</th>\n",
       "      <th>var8(t-20)</th>\n",
       "      <th>var1(t-19)</th>\n",
       "      <th>var2(t-19)</th>\n",
       "      <th>...</th>\n",
       "      <th>var7(t-1)</th>\n",
       "      <th>var8(t-1)</th>\n",
       "      <th>var1(t)</th>\n",
       "      <th>var2(t)</th>\n",
       "      <th>var3(t)</th>\n",
       "      <th>var4(t)</th>\n",
       "      <th>var5(t)</th>\n",
       "      <th>var6(t)</th>\n",
       "      <th>var7(t)</th>\n",
       "      <th>var8(t)</th>\n",
       "    </tr>\n",
       "    <tr>\n",
       "      <th>DATETIME</th>\n",
       "      <th></th>\n",
       "      <th></th>\n",
       "      <th></th>\n",
       "      <th></th>\n",
       "      <th></th>\n",
       "      <th></th>\n",
       "      <th></th>\n",
       "      <th></th>\n",
       "      <th></th>\n",
       "      <th></th>\n",
       "      <th></th>\n",
       "      <th></th>\n",
       "      <th></th>\n",
       "      <th></th>\n",
       "      <th></th>\n",
       "      <th></th>\n",
       "      <th></th>\n",
       "      <th></th>\n",
       "      <th></th>\n",
       "      <th></th>\n",
       "      <th></th>\n",
       "    </tr>\n",
       "  </thead>\n",
       "  <tbody>\n",
       "    <tr>\n",
       "      <th>2014-04-27</th>\n",
       "      <td>0.000</td>\n",
       "      <td>0.000</td>\n",
       "      <td>0.000</td>\n",
       "      <td>0.0</td>\n",
       "      <td>0.00000</td>\n",
       "      <td>0.000</td>\n",
       "      <td>0.00</td>\n",
       "      <td>0.000</td>\n",
       "      <td>0.000</td>\n",
       "      <td>0.000</td>\n",
       "      <td>...</td>\n",
       "      <td>65.724</td>\n",
       "      <td>56.148</td>\n",
       "      <td>240.736</td>\n",
       "      <td>108.054</td>\n",
       "      <td>159.899</td>\n",
       "      <td>0.0</td>\n",
       "      <td>50.29698</td>\n",
       "      <td>80.837</td>\n",
       "      <td>66.934</td>\n",
       "      <td>52.202</td>\n",
       "    </tr>\n",
       "    <tr>\n",
       "      <th>2014-04-28</th>\n",
       "      <td>0.000</td>\n",
       "      <td>0.000</td>\n",
       "      <td>0.000</td>\n",
       "      <td>0.0</td>\n",
       "      <td>1.00306</td>\n",
       "      <td>0.000</td>\n",
       "      <td>0.00</td>\n",
       "      <td>0.000</td>\n",
       "      <td>0.000</td>\n",
       "      <td>0.000</td>\n",
       "      <td>...</td>\n",
       "      <td>66.934</td>\n",
       "      <td>52.202</td>\n",
       "      <td>235.021</td>\n",
       "      <td>108.042</td>\n",
       "      <td>157.683</td>\n",
       "      <td>0.0</td>\n",
       "      <td>50.73588</td>\n",
       "      <td>77.338</td>\n",
       "      <td>67.848</td>\n",
       "      <td>48.708</td>\n",
       "    </tr>\n",
       "    <tr>\n",
       "      <th>2014-04-29</th>\n",
       "      <td>0.000</td>\n",
       "      <td>0.000</td>\n",
       "      <td>0.000</td>\n",
       "      <td>0.0</td>\n",
       "      <td>0.97901</td>\n",
       "      <td>0.000</td>\n",
       "      <td>0.00</td>\n",
       "      <td>0.000</td>\n",
       "      <td>0.000</td>\n",
       "      <td>0.000</td>\n",
       "      <td>...</td>\n",
       "      <td>67.848</td>\n",
       "      <td>48.708</td>\n",
       "      <td>232.744</td>\n",
       "      <td>107.988</td>\n",
       "      <td>156.795</td>\n",
       "      <td>0.0</td>\n",
       "      <td>50.11392</td>\n",
       "      <td>75.949</td>\n",
       "      <td>65.707</td>\n",
       "      <td>47.376</td>\n",
       "    </tr>\n",
       "    <tr>\n",
       "      <th>2014-04-30</th>\n",
       "      <td>0.000</td>\n",
       "      <td>0.000</td>\n",
       "      <td>0.000</td>\n",
       "      <td>0.0</td>\n",
       "      <td>0.54576</td>\n",
       "      <td>0.000</td>\n",
       "      <td>0.00</td>\n",
       "      <td>0.000</td>\n",
       "      <td>310.376</td>\n",
       "      <td>96.876</td>\n",
       "      <td>...</td>\n",
       "      <td>65.707</td>\n",
       "      <td>47.376</td>\n",
       "      <td>233.298</td>\n",
       "      <td>107.893</td>\n",
       "      <td>157.179</td>\n",
       "      <td>0.0</td>\n",
       "      <td>48.92679</td>\n",
       "      <td>76.118</td>\n",
       "      <td>62.796</td>\n",
       "      <td>47.611</td>\n",
       "    </tr>\n",
       "    <tr>\n",
       "      <th>2014-05-01</th>\n",
       "      <td>310.376</td>\n",
       "      <td>96.876</td>\n",
       "      <td>277.278</td>\n",
       "      <td>0.0</td>\n",
       "      <td>1.21599</td>\n",
       "      <td>33.098</td>\n",
       "      <td>10.48</td>\n",
       "      <td>33.072</td>\n",
       "      <td>303.501</td>\n",
       "      <td>96.923</td>\n",
       "      <td>...</td>\n",
       "      <td>62.796</td>\n",
       "      <td>47.611</td>\n",
       "      <td>231.089</td>\n",
       "      <td>107.877</td>\n",
       "      <td>156.399</td>\n",
       "      <td>0.0</td>\n",
       "      <td>48.93863</td>\n",
       "      <td>74.690</td>\n",
       "      <td>62.377</td>\n",
       "      <td>46.196</td>\n",
       "    </tr>\n",
       "  </tbody>\n",
       "</table>\n",
       "<p>5 rows × 168 columns</p>\n",
       "</div>"
      ],
      "text/plain": [
       "            var1(t-20)  var2(t-20)  var3(t-20)  var4(t-20)  var5(t-20)  \\\n",
       "DATETIME                                                                 \n",
       "2014-04-27       0.000       0.000       0.000         0.0     0.00000   \n",
       "2014-04-28       0.000       0.000       0.000         0.0     1.00306   \n",
       "2014-04-29       0.000       0.000       0.000         0.0     0.97901   \n",
       "2014-04-30       0.000       0.000       0.000         0.0     0.54576   \n",
       "2014-05-01     310.376      96.876     277.278         0.0     1.21599   \n",
       "\n",
       "            var6(t-20)  var7(t-20)  var8(t-20)  var1(t-19)  var2(t-19)  \\\n",
       "DATETIME                                                                 \n",
       "2014-04-27       0.000        0.00       0.000       0.000       0.000   \n",
       "2014-04-28       0.000        0.00       0.000       0.000       0.000   \n",
       "2014-04-29       0.000        0.00       0.000       0.000       0.000   \n",
       "2014-04-30       0.000        0.00       0.000     310.376      96.876   \n",
       "2014-05-01      33.098       10.48      33.072     303.501      96.923   \n",
       "\n",
       "             ...     var7(t-1)  var8(t-1)  var1(t)  var2(t)  var3(t)  var4(t)  \\\n",
       "DATETIME     ...                                                                \n",
       "2014-04-27   ...        65.724     56.148  240.736  108.054  159.899      0.0   \n",
       "2014-04-28   ...        66.934     52.202  235.021  108.042  157.683      0.0   \n",
       "2014-04-29   ...        67.848     48.708  232.744  107.988  156.795      0.0   \n",
       "2014-04-30   ...        65.707     47.376  233.298  107.893  157.179      0.0   \n",
       "2014-05-01   ...        62.796     47.611  231.089  107.877  156.399      0.0   \n",
       "\n",
       "             var5(t)  var6(t)  var7(t)  var8(t)  \n",
       "DATETIME                                         \n",
       "2014-04-27  50.29698   80.837   66.934   52.202  \n",
       "2014-04-28  50.73588   77.338   67.848   48.708  \n",
       "2014-04-29  50.11392   75.949   65.707   47.376  \n",
       "2014-04-30  48.92679   76.118   62.796   47.611  \n",
       "2014-05-01  48.93863   74.690   62.377   46.196  \n",
       "\n",
       "[5 rows x 168 columns]"
      ]
     },
     "execution_count": 16,
     "metadata": {},
     "output_type": "execute_result"
    }
   ],
   "source": [
    "# Create multi-step or sequence forecasting. Also, we are using past observations to forecast a sequence of \n",
    "# future observations\n",
    "\n",
    "from pandas import DataFrame\n",
    "from pandas import concat\n",
    " \n",
    "def series_to_supervised(data, n_in=1, n_out=1, dropnan=True):\n",
    "    n_vars = 1 if type(data) is list else data.shape[1]\n",
    "    df = DataFrame(data)\n",
    "    cols, names = list(), list()\n",
    "# input sequence (t-n, ... t-1)\n",
    "    for i in range(n_in, 0, -1):\n",
    "        cols.append(df.shift(i))\n",
    "        names += [('var%d(t-%d)' % (j+1, i)) for j in range(n_vars)]\n",
    "# forecast sequence (t, t+1, ... t+n)\n",
    "    for i in range(0, n_out):\n",
    "        cols.append(df.shift(-i))\n",
    "        if i == 0:\n",
    "            names += [('var%d(t)' % (j+1)) for j in range(n_vars)]\n",
    "        else:\n",
    "            names += [('var%d(t+%d)' % (j+1, i)) for j in range(n_vars)]\n",
    "# put it all together\n",
    "    agg = concat(cols, axis=1)\n",
    "    agg.columns = names\n",
    "# drop rows with NaN values\n",
    "    if dropnan:\n",
    "        agg.dropna(inplace=True)\n",
    "    return agg\n",
    " \n",
    "\n",
    "x_data = series_to_supervised(X, 20)\n",
    "x_data.head()"
   ]
  },
  {
   "cell_type": "code",
   "execution_count": 17,
   "metadata": {},
   "outputs": [
    {
     "data": {
      "text/html": [
       "<div>\n",
       "<style>\n",
       "    .dataframe thead tr:only-child th {\n",
       "        text-align: right;\n",
       "    }\n",
       "\n",
       "    .dataframe thead th {\n",
       "        text-align: left;\n",
       "    }\n",
       "\n",
       "    .dataframe tbody tr th {\n",
       "        vertical-align: top;\n",
       "    }\n",
       "</style>\n",
       "<table border=\"1\" class=\"dataframe\">\n",
       "  <thead>\n",
       "    <tr style=\"text-align: right;\">\n",
       "      <th></th>\n",
       "      <th>var1(t-20)</th>\n",
       "      <th>var1(t-19)</th>\n",
       "      <th>var1(t-18)</th>\n",
       "      <th>var1(t-17)</th>\n",
       "      <th>var1(t-16)</th>\n",
       "      <th>var1(t-15)</th>\n",
       "      <th>var1(t-14)</th>\n",
       "      <th>var1(t-13)</th>\n",
       "      <th>var1(t-12)</th>\n",
       "      <th>var1(t-11)</th>\n",
       "      <th>...</th>\n",
       "      <th>var1(t-9)</th>\n",
       "      <th>var1(t-8)</th>\n",
       "      <th>var1(t-7)</th>\n",
       "      <th>var1(t-6)</th>\n",
       "      <th>var1(t-5)</th>\n",
       "      <th>var1(t-4)</th>\n",
       "      <th>var1(t-3)</th>\n",
       "      <th>var1(t-2)</th>\n",
       "      <th>var1(t-1)</th>\n",
       "      <th>var1(t)</th>\n",
       "    </tr>\n",
       "    <tr>\n",
       "      <th>DATETIME</th>\n",
       "      <th></th>\n",
       "      <th></th>\n",
       "      <th></th>\n",
       "      <th></th>\n",
       "      <th></th>\n",
       "      <th></th>\n",
       "      <th></th>\n",
       "      <th></th>\n",
       "      <th></th>\n",
       "      <th></th>\n",
       "      <th></th>\n",
       "      <th></th>\n",
       "      <th></th>\n",
       "      <th></th>\n",
       "      <th></th>\n",
       "      <th></th>\n",
       "      <th></th>\n",
       "      <th></th>\n",
       "      <th></th>\n",
       "      <th></th>\n",
       "      <th></th>\n",
       "    </tr>\n",
       "  </thead>\n",
       "  <tbody>\n",
       "    <tr>\n",
       "      <th>2014-04-27</th>\n",
       "      <td>0.0</td>\n",
       "      <td>0.0</td>\n",
       "      <td>0.0</td>\n",
       "      <td>0.0</td>\n",
       "      <td>0.0</td>\n",
       "      <td>0.0</td>\n",
       "      <td>0.0</td>\n",
       "      <td>0.0</td>\n",
       "      <td>0.0</td>\n",
       "      <td>0.0</td>\n",
       "      <td>...</td>\n",
       "      <td>0.0</td>\n",
       "      <td>0.0</td>\n",
       "      <td>0.0</td>\n",
       "      <td>0.0</td>\n",
       "      <td>1.0</td>\n",
       "      <td>1.0</td>\n",
       "      <td>1.0</td>\n",
       "      <td>1.0</td>\n",
       "      <td>1.0</td>\n",
       "      <td>1</td>\n",
       "    </tr>\n",
       "    <tr>\n",
       "      <th>2014-04-28</th>\n",
       "      <td>0.0</td>\n",
       "      <td>0.0</td>\n",
       "      <td>0.0</td>\n",
       "      <td>0.0</td>\n",
       "      <td>0.0</td>\n",
       "      <td>0.0</td>\n",
       "      <td>0.0</td>\n",
       "      <td>0.0</td>\n",
       "      <td>0.0</td>\n",
       "      <td>0.0</td>\n",
       "      <td>...</td>\n",
       "      <td>0.0</td>\n",
       "      <td>0.0</td>\n",
       "      <td>0.0</td>\n",
       "      <td>1.0</td>\n",
       "      <td>1.0</td>\n",
       "      <td>1.0</td>\n",
       "      <td>1.0</td>\n",
       "      <td>1.0</td>\n",
       "      <td>1.0</td>\n",
       "      <td>1</td>\n",
       "    </tr>\n",
       "    <tr>\n",
       "      <th>2014-04-29</th>\n",
       "      <td>0.0</td>\n",
       "      <td>0.0</td>\n",
       "      <td>0.0</td>\n",
       "      <td>0.0</td>\n",
       "      <td>0.0</td>\n",
       "      <td>0.0</td>\n",
       "      <td>0.0</td>\n",
       "      <td>0.0</td>\n",
       "      <td>0.0</td>\n",
       "      <td>0.0</td>\n",
       "      <td>...</td>\n",
       "      <td>0.0</td>\n",
       "      <td>0.0</td>\n",
       "      <td>1.0</td>\n",
       "      <td>1.0</td>\n",
       "      <td>1.0</td>\n",
       "      <td>1.0</td>\n",
       "      <td>1.0</td>\n",
       "      <td>1.0</td>\n",
       "      <td>1.0</td>\n",
       "      <td>1</td>\n",
       "    </tr>\n",
       "    <tr>\n",
       "      <th>2014-04-30</th>\n",
       "      <td>0.0</td>\n",
       "      <td>0.0</td>\n",
       "      <td>0.0</td>\n",
       "      <td>0.0</td>\n",
       "      <td>0.0</td>\n",
       "      <td>0.0</td>\n",
       "      <td>0.0</td>\n",
       "      <td>0.0</td>\n",
       "      <td>0.0</td>\n",
       "      <td>0.0</td>\n",
       "      <td>...</td>\n",
       "      <td>0.0</td>\n",
       "      <td>1.0</td>\n",
       "      <td>1.0</td>\n",
       "      <td>1.0</td>\n",
       "      <td>1.0</td>\n",
       "      <td>1.0</td>\n",
       "      <td>1.0</td>\n",
       "      <td>1.0</td>\n",
       "      <td>1.0</td>\n",
       "      <td>1</td>\n",
       "    </tr>\n",
       "    <tr>\n",
       "      <th>2014-05-01</th>\n",
       "      <td>0.0</td>\n",
       "      <td>0.0</td>\n",
       "      <td>0.0</td>\n",
       "      <td>0.0</td>\n",
       "      <td>0.0</td>\n",
       "      <td>0.0</td>\n",
       "      <td>0.0</td>\n",
       "      <td>0.0</td>\n",
       "      <td>0.0</td>\n",
       "      <td>0.0</td>\n",
       "      <td>...</td>\n",
       "      <td>1.0</td>\n",
       "      <td>1.0</td>\n",
       "      <td>1.0</td>\n",
       "      <td>1.0</td>\n",
       "      <td>1.0</td>\n",
       "      <td>1.0</td>\n",
       "      <td>1.0</td>\n",
       "      <td>1.0</td>\n",
       "      <td>1.0</td>\n",
       "      <td>1</td>\n",
       "    </tr>\n",
       "  </tbody>\n",
       "</table>\n",
       "<p>5 rows × 21 columns</p>\n",
       "</div>"
      ],
      "text/plain": [
       "            var1(t-20)  var1(t-19)  var1(t-18)  var1(t-17)  var1(t-16)  \\\n",
       "DATETIME                                                                 \n",
       "2014-04-27         0.0         0.0         0.0         0.0         0.0   \n",
       "2014-04-28         0.0         0.0         0.0         0.0         0.0   \n",
       "2014-04-29         0.0         0.0         0.0         0.0         0.0   \n",
       "2014-04-30         0.0         0.0         0.0         0.0         0.0   \n",
       "2014-05-01         0.0         0.0         0.0         0.0         0.0   \n",
       "\n",
       "            var1(t-15)  var1(t-14)  var1(t-13)  var1(t-12)  var1(t-11)  \\\n",
       "DATETIME                                                                 \n",
       "2014-04-27         0.0         0.0         0.0         0.0         0.0   \n",
       "2014-04-28         0.0         0.0         0.0         0.0         0.0   \n",
       "2014-04-29         0.0         0.0         0.0         0.0         0.0   \n",
       "2014-04-30         0.0         0.0         0.0         0.0         0.0   \n",
       "2014-05-01         0.0         0.0         0.0         0.0         0.0   \n",
       "\n",
       "             ...     var1(t-9)  var1(t-8)  var1(t-7)  var1(t-6)  var1(t-5)  \\\n",
       "DATETIME     ...                                                             \n",
       "2014-04-27   ...           0.0        0.0        0.0        0.0        1.0   \n",
       "2014-04-28   ...           0.0        0.0        0.0        1.0        1.0   \n",
       "2014-04-29   ...           0.0        0.0        1.0        1.0        1.0   \n",
       "2014-04-30   ...           0.0        1.0        1.0        1.0        1.0   \n",
       "2014-05-01   ...           1.0        1.0        1.0        1.0        1.0   \n",
       "\n",
       "            var1(t-4)  var1(t-3)  var1(t-2)  var1(t-1)  var1(t)  \n",
       "DATETIME                                                         \n",
       "2014-04-27        1.0        1.0        1.0        1.0        1  \n",
       "2014-04-28        1.0        1.0        1.0        1.0        1  \n",
       "2014-04-29        1.0        1.0        1.0        1.0        1  \n",
       "2014-04-30        1.0        1.0        1.0        1.0        1  \n",
       "2014-05-01        1.0        1.0        1.0        1.0        1  \n",
       "\n",
       "[5 rows x 21 columns]"
      ]
     },
     "execution_count": 17,
     "metadata": {},
     "output_type": "execute_result"
    }
   ],
   "source": [
    "y_data = series_to_supervised(y,20)\n",
    "y_data.head()\n"
   ]
  },
  {
   "cell_type": "code",
   "execution_count": 18,
   "metadata": {
    "collapsed": true
   },
   "outputs": [],
   "source": [
    "y_data = y_data.loc[:,'var1(t)']"
   ]
  },
  {
   "cell_type": "code",
   "execution_count": 19,
   "metadata": {},
   "outputs": [
    {
     "data": {
      "text/plain": [
       "DATETIME\n",
       "2014-04-27    1\n",
       "2014-04-28    1\n",
       "2014-04-29    1\n",
       "2014-04-30    1\n",
       "2014-05-01    1\n",
       "Name: var1(t), dtype: int32"
      ]
     },
     "execution_count": 19,
     "metadata": {},
     "output_type": "execute_result"
    }
   ],
   "source": [
    "y_data.head()"
   ]
  },
  {
   "cell_type": "code",
   "execution_count": 20,
   "metadata": {},
   "outputs": [
    {
     "data": {
      "text/plain": [
       "((15614, 168), (15614,))"
      ]
     },
     "execution_count": 20,
     "metadata": {},
     "output_type": "execute_result"
    }
   ],
   "source": [
    "x_data.shape, y_data.shape"
   ]
  },
  {
   "cell_type": "code",
   "execution_count": 21,
   "metadata": {
    "collapsed": true,
    "scrolled": true
   },
   "outputs": [],
   "source": [
    "from sklearn.model_selection import train_test_split\n",
    "\n",
    "# Spliting into 80% for training set and 20% for testing set so we can see our accuracy\n",
    "X_train, x_test, y_train, y_test = train_test_split(x_data, y_data, test_size=0.4, random_state=0)"
   ]
  },
  {
   "cell_type": "code",
   "execution_count": 22,
   "metadata": {},
   "outputs": [
    {
     "name": "stdout",
     "output_type": "stream",
     "text": [
      "0.82004482869\n"
     ]
    }
   ],
   "source": [
    "from sklearn.svm import SVC   \n",
    "\n",
    "# Declaring the SVC with no tuning\n",
    "classifier = SVC()\n",
    "\n",
    "# Fitting the data. This is where the SVM will learn\n",
    "classifier.fit(X_train, y_train)\n",
    "\n",
    "# Predicting the result and giving the accuracy\n",
    "score = classifier.score(x_test, y_test)\n",
    "\n",
    "print(score)"
   ]
  },
  {
   "cell_type": "code",
   "execution_count": 23,
   "metadata": {
    "collapsed": true
   },
   "outputs": [],
   "source": [
    "from sklearn.svm import SVR\n",
    "from sklearn.pipeline import Pipeline\n",
    "from sklearn.preprocessing import StandardScaler\n",
    "from sklearn.multiclass import OneVsRestClassifier\n",
    " \n",
    "svm_est = Pipeline([('scaler',StandardScaler()),('svc',OneVsRestClassifier(SVR()))])"
   ]
  },
  {
   "cell_type": "code",
   "execution_count": 24,
   "metadata": {
    "collapsed": true
   },
   "outputs": [],
   "source": [
    "# Create a parameter grid:\n",
    "Cs = [0.1, 1, 10, 100]\n",
    "gammas = [0.001, 0.01, 0.1]\n",
    " \n",
    "param_grid = dict(svc__estimator__gamma=gammas, svc__estimator__C=Cs)"
   ]
  },
  {
   "cell_type": "code",
   "execution_count": 27,
   "metadata": {},
   "outputs": [
    {
     "data": {
      "text/plain": [
       "RandomizedSearchCV(cv=5, error_score='raise',\n",
       "          estimator=Pipeline(memory=None,\n",
       "     steps=[('scaler', StandardScaler(copy=True, with_mean=True, with_std=True)), ('svc', OneVsRestClassifier(estimator=SVR(C=1.0, cache_size=200, coef0=0.0, degree=3, epsilon=0.1, gamma='auto',\n",
       "  kernel='rbf', max_iter=-1, shrinking=True, tol=0.001, verbose=False),\n",
       "          n_jobs=1))]),\n",
       "          fit_params=None, iid=True, n_iter=5, n_jobs=1,\n",
       "          param_distributions={'svc__estimator__gamma': [0.001, 0.01, 0.1], 'svc__estimator__C': [0.1, 1, 10, 100]},\n",
       "          pre_dispatch='2*n_jobs', random_state=None, refit=True,\n",
       "          return_train_score='warn', scoring='neg_mean_absolute_error',\n",
       "          verbose=0)"
      ]
     },
     "execution_count": 27,
     "metadata": {},
     "output_type": "execute_result"
    }
   ],
   "source": [
    "# Perform a randomized search of the best hyperparameters, C and gamma\n",
    "\n",
    "from sklearn.model_selection import RandomizedSearchCV\n",
    "from sklearn.model_selection import StratifiedShuffleSplit\n",
    " \n",
    "rand_grid = RandomizedSearchCV(svm_est, param_distributions=param_grid, cv=5,n_iter=5,scoring='neg_mean_absolute_error')\n",
    "rand_grid.fit(X_train, y_train)"
   ]
  },
  {
   "cell_type": "code",
   "execution_count": 28,
   "metadata": {},
   "outputs": [
    {
     "data": {
      "text/plain": [
       "{'svc__estimator__C': 1, 'svc__estimator__gamma': 0.01}"
      ]
     },
     "execution_count": 28,
     "metadata": {},
     "output_type": "execute_result"
    }
   ],
   "source": [
    "# Look at the best parameters:\n",
    "rand_grid.best_params_"
   ]
  },
  {
   "cell_type": "code",
   "execution_count": 29,
   "metadata": {},
   "outputs": [
    {
     "data": {
      "text/plain": [
       "-0.036827497865072591"
      ]
     },
     "execution_count": 29,
     "metadata": {},
     "output_type": "execute_result"
    }
   ],
   "source": [
    "# Look at the best score:\n",
    "rand_grid.best_score_"
   ]
  },
  {
   "cell_type": "code",
   "execution_count": 30,
   "metadata": {},
   "outputs": [
    {
     "data": {
      "text/plain": [
       "SVR(C=10, cache_size=200, coef0=0.0, degree=3, epsilon=0.1, gamma='auto',\n",
       "  kernel='rbf', max_iter=-1, shrinking=True, tol=0.001, verbose=False)"
      ]
     },
     "execution_count": 30,
     "metadata": {},
     "output_type": "execute_result"
    }
   ],
   "source": [
    "regressor = SVR (C = 10, epsilon=0.1, kernel='rbf')\n",
    "regressor.fit(X_train, y_train)"
   ]
  },
  {
   "cell_type": "code",
   "execution_count": 115,
   "metadata": {},
   "outputs": [
    {
     "name": "stdout",
     "output_type": "stream",
     "text": [
      "\n",
      "#### Performance ####\n",
      "Mean squared error = 0.11\n",
      "Explained variance score = 0.49\n"
     ]
    }
   ],
   "source": [
    "from sklearn.metrics import mean_squared_error, explained_variance_score \n",
    "\n",
    "# Evaluate performance of Support Vector Regressor \n",
    "y_test_pred = regressor.predict(x_test) \n",
    "\n",
    "mse = mean_squared_error(y_test, y_test_pred) \n",
    "evs = explained_variance_score(y_test, y_test_pred)  \n",
    "print(\"\\n#### Performance ####\") \n",
    "print(\"Mean squared error =\", round(mse, 2)) \n",
    "print(\"Explained variance score =\", round(evs, 2)) \n",
    "\n",
    "#X_train, x_test, y_train, y_test"
   ]
  },
  {
   "cell_type": "code",
   "execution_count": 143,
   "metadata": {},
   "outputs": [
    {
     "name": "stdout",
     "output_type": "stream",
     "text": [
      "\n",
      "Predicted production: [ 0.10001512]\n",
      "\n",
      " Actual production:\n"
     ]
    },
    {
     "data": {
      "text/plain": [
       "0"
      ]
     },
     "execution_count": 143,
     "metadata": {},
     "output_type": "execute_result"
    }
   ],
   "source": [
    "# Test the regressor on test datapoint \n",
    "#test_data = [3.7, 0, 18.4, 1, 0.87, 5.95, 91, 2.5052] \n",
    "last_day_data = x_data.iloc[-100]\n",
    "last_actual = y_data.iloc[-100]\n",
    "print(\"\\nPredicted production:\", regressor.predict([last_day_data])) \n",
    "print(\"\\n Actual production:\")\n",
    "last_actual\n"
   ]
  },
  {
   "cell_type": "code",
   "execution_count": null,
   "metadata": {
    "collapsed": true
   },
   "outputs": [],
   "source": []
  },
  {
   "cell_type": "code",
   "execution_count": null,
   "metadata": {
    "collapsed": true
   },
   "outputs": [],
   "source": []
  }
 ],
 "metadata": {
  "kernelspec": {
   "display_name": "Python 3",
   "language": "python",
   "name": "python3"
  },
  "language_info": {
   "codemirror_mode": {
    "name": "ipython",
    "version": 3
   },
   "file_extension": ".py",
   "mimetype": "text/x-python",
   "name": "python",
   "nbconvert_exporter": "python",
   "pygments_lexer": "ipython3",
   "version": "3.6.3"
  }
 },
 "nbformat": 4,
 "nbformat_minor": 2
}
